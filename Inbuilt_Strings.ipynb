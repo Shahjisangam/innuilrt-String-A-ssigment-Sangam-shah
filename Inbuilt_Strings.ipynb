{
 "cells": [
  {
   "cell_type": "code",
   "execution_count": 1,
   "id": "6e8ebd70-923a-499c-9fd5-6296528c15e7",
   "metadata": {},
   "outputs": [],
   "source": [
    " # Ques No. 01. What is the purpose of the len() function in Python, and how can it be used with strings?"
   ]
  },
  {
   "cell_type": "markdown",
   "id": "a973e203-2a32-4860-8cc0-fc05f5b6b6c8",
   "metadata": {},
   "source": [
    "The len() function in Python is used to determine the length of a sequence or collection, such as a string, list, tuple, or dictionary. It returns the number of elements in the sequence or the number of characters in the string.\n",
    "\n",
    "When used with strings, the len() function returns the number of characters in the string, including spaces and punctuation marks. Here's how you can use the len() function with strings:"
   ]
  },
  {
   "cell_type": "code",
   "execution_count": 2,
   "id": "c752c267-5182-4b97-87e5-07ad00ca8ab7",
   "metadata": {},
   "outputs": [
    {
     "name": "stdout",
     "output_type": "stream",
     "text": [
      "Length of string1: 13\n",
      "Length of empty_string: 0\n"
     ]
    }
   ],
   "source": [
    "# Example 1: Using len() with a string\n",
    "string1 = \"Hello, World!\"\n",
    "length = len(string1)\n",
    "print(\"Length of string1:\", length)  # Output: Length of string1: 13\n",
    "\n",
    "# Example 2: Using len() with an empty string\n",
    "empty_string = \"\"\n",
    "length = len(empty_string)\n",
    "print(\"Length of empty_string:\", length)  # Output: Length of empty_string: 0\n"
   ]
  },
  {
   "cell_type": "markdown",
   "id": "4ac41bbb-265a-4786-9155-ae04bfbe68fd",
   "metadata": {},
   "source": [
    "In Example 1, the string \"Hello, World!\" has 13 characters, so the len() function returns 13. In Example 2, the empty string \"\" has 0 characters, so len() returns 0."
   ]
  },
  {
   "cell_type": "code",
   "execution_count": 3,
   "id": "92ae55d0-5d44-443f-9060-5572afa8f1f9",
   "metadata": {},
   "outputs": [],
   "source": [
    "# Ques No. 2. How can you concatenate two or more strings in Python, and can you provide an example of string concatenation?"
   ]
  },
  {
   "cell_type": "markdown",
   "id": "c989e070-cd84-4e61-89fa-bce4e9bbf983",
   "metadata": {},
   "source": [
    "In Python, you can concatenate two or more strings using the + operator or the str.join() method. Here's how you can concatenate strings using both methods:"
   ]
  },
  {
   "cell_type": "markdown",
   "id": "7c812e05-8a3d-4c7e-9df6-437f9c2b8bbc",
   "metadata": {},
   "source": [
    "1. Using the + operator:"
   ]
  },
  {
   "cell_type": "code",
   "execution_count": 4,
   "id": "258d5cee-a2a7-40f4-b97e-8716eb5421e2",
   "metadata": {},
   "outputs": [
    {
     "name": "stdout",
     "output_type": "stream",
     "text": [
      "Hello World\n"
     ]
    }
   ],
   "source": [
    "# Concatenating strings using the + operator\n",
    "string1 = \"Hello\"\n",
    "string2 = \"World\"\n",
    "concatenated_string = string1 + \" \" + string2\n",
    "print(concatenated_string)  # Output: Hello World\n"
   ]
  },
  {
   "cell_type": "markdown",
   "id": "dfa55a54-743e-45ed-b8ab-b6d80622ee6b",
   "metadata": {},
   "source": [
    "2. Using the str.join() method:"
   ]
  },
  {
   "cell_type": "code",
   "execution_count": 5,
   "id": "e849a214-bd54-4509-b351-674519ebbf28",
   "metadata": {},
   "outputs": [
    {
     "name": "stdout",
     "output_type": "stream",
     "text": [
      "Hello World\n"
     ]
    }
   ],
   "source": [
    "# Concatenating strings using the str.join() method\n",
    "strings = [\"Hello\", \"World\"]\n",
    "separator = \" \"\n",
    "concatenated_string = separator.join(strings)\n",
    "print(concatenated_string)  # Output: Hello World\n"
   ]
  },
  {
   "cell_type": "markdown",
   "id": "76f0f7a4-5447-440d-88ef-65ef75834d91",
   "metadata": {},
   "source": [
    "Both approaches produce the same result: \"Hello World\". However, they differ in their usage:\n",
    "\n",
    "The + operator concatenates strings directly, allowing you to combine two or more strings using the + symbol between them.\n",
    "The str.join() method concatenates strings by joining them with a specified separator. It takes an iterable of strings as its argument and returns a new string where each element of the iterable is separated by the specified separator.\n",
    "Both methods are commonly used for string concatenation in Python, and the choice between them depends on personal preference and specific requirements.\n",
    "\n",
    "\n",
    "\n",
    "\n",
    "\n",
    "\n"
   ]
  },
  {
   "cell_type": "code",
   "execution_count": 6,
   "id": "e45a91ad-e1db-4989-b430-82313d99aac0",
   "metadata": {},
   "outputs": [],
   "source": [
    "# Ques No. - 03. What is string slicing in Python, and how can you extract a portion of a string using this method?"
   ]
  },
  {
   "cell_type": "markdown",
   "id": "1edbc388-af62-46fc-87da-5b780235ca84",
   "metadata": {},
   "source": [
    "String slicing in Python refers to the process of extracting a substring (a portion of a string) from a larger string. It allows you to retrieve a specific range of characters from a string based on their indices. The basic syntax for string slicing is:"
   ]
  },
  {
   "cell_type": "code",
   "execution_count": 7,
   "id": "e8985301-e40f-4fb8-92d3-3633e81a8fca",
   "metadata": {},
   "outputs": [
    {
     "ename": "NameError",
     "evalue": "name 'string' is not defined",
     "output_type": "error",
     "traceback": [
      "\u001b[0;31m---------------------------------------------------------------------------\u001b[0m",
      "\u001b[0;31mNameError\u001b[0m                                 Traceback (most recent call last)",
      "Cell \u001b[0;32mIn[7], line 1\u001b[0m\n\u001b[0;32m----> 1\u001b[0m \u001b[43mstring\u001b[49m[start_index:end_index:step]\n",
      "\u001b[0;31mNameError\u001b[0m: name 'string' is not defined"
     ]
    }
   ],
   "source": [
    "string[start_index:end_index:step]\n"
   ]
  },
  {
   "cell_type": "markdown",
   "id": "e9097bdc-5a27-43f1-93c7-e6d73606d9c4",
   "metadata": {},
   "source": [
    "start_index: The index at which the slicing begins. It specifies the position of the first character to include in the sliced substring. If omitted, slicing starts from the beginning of the string (index 0).\n",
    "end_index: The index at which the slicing ends. It specifies the position immediately after the last character to include in the sliced substring. If omitted, slicing continues to the end of the string.\n",
    "step: The step size or increment. It determines the spacing between characters to include in the sliced substring. If omitted, the default step size is 1.\n",
    "Here's an example of how to extract a portion of a string using string slicing:"
   ]
  },
  {
   "cell_type": "code",
   "execution_count": 8,
   "id": "9119acf9-d346-4477-9c94-0e3ecfb5459a",
   "metadata": {},
   "outputs": [
    {
     "name": "stdout",
     "output_type": "stream",
     "text": [
      "World\n",
      "Hlo ol\n"
     ]
    }
   ],
   "source": [
    "# Original string\n",
    "string = \"Hello, World!\"\n",
    "\n",
    "# Extracting a portion of the string using slicing\n",
    "substring1 = string[7:12]  # Start index: 7, End index: 12\n",
    "print(substring1)  # Output: World\n",
    "\n",
    "# Extracting a portion of the string with a specified step\n",
    "substring2 = string[0:12:2]  # Start index: 0, End index: 12, Step: 2\n",
    "print(substring2)  # Output: HloWrd\n"
   ]
  },
  {
   "cell_type": "markdown",
   "id": "da754fd8-9b50-4b55-9e5b-0d2132fd649f",
   "metadata": {},
   "source": [
    "In this example:\n",
    "\n",
    "We have the original string \"Hello, World!\".\n",
    "We use string slicing to extract a portion of the string based on the specified indices.\n",
    "substring1 extracts the characters from index 7 to index 11 (end index is exclusive), resulting in \"World\".\n",
    "substring2 extracts every second character from index 0 to index 11 (end index is exclusive), resulting in \"HloWrd\".\n",
    "String slicing is a powerful and versatile feature in Python that allows you to manipulate strings efficiently by extracting substrings based on their positions within the original string.\n",
    "\n",
    "\n",
    "\n",
    "\n",
    "\n",
    "\n"
   ]
  },
  {
   "cell_type": "markdown",
   "id": "e8f46830-a983-48b3-a1fb-a0abc36977a6",
   "metadata": {},
   "source": []
  },
  {
   "cell_type": "code",
   "execution_count": 10,
   "id": "f2ce4989-9571-4cd0-9bad-4104baee5715",
   "metadata": {},
   "outputs": [],
   "source": [
    "# Ques No. 04. How can you change the case of a string in Python, and can you provide examples of both making a string all uppercase and all lowercase?"
   ]
  },
  {
   "cell_type": "markdown",
   "id": "000748f7-f18c-4bf2-a0a7-99bc97233fe0",
   "metadata": {},
   "source": [
    "In Python, you can change the case of a string using the upper() and lower() methods. Here are examples of both making a string all uppercase and all lowercase:\n",
    "\n"
   ]
  },
  {
   "cell_type": "markdown",
   "id": "04a6f1a1-1673-466b-9489-a7659b5699a1",
   "metadata": {},
   "source": [
    "1. Making a string all uppercase using the upper() method:"
   ]
  },
  {
   "cell_type": "code",
   "execution_count": 11,
   "id": "a1448317-10c1-4621-b38d-0beb3ceab488",
   "metadata": {},
   "outputs": [
    {
     "name": "stdout",
     "output_type": "stream",
     "text": [
      "HELLO, WORLD!\n"
     ]
    }
   ],
   "source": [
    "# Original string\n",
    "string = \"Hello, World!\"\n",
    "\n",
    "# Convert the string to uppercase\n",
    "uppercase_string = string.upper()\n",
    "print(uppercase_string)  # Output: HELLO, WORLD!\n"
   ]
  },
  {
   "cell_type": "markdown",
   "id": "31d35ed2-493c-461a-af10-ef6c5735f694",
   "metadata": {},
   "source": [
    "2. Making a string all lowercase using the lower() method:"
   ]
  },
  {
   "cell_type": "code",
   "execution_count": 12,
   "id": "631750dc-5c6a-400e-b37c-f1bf78b834ec",
   "metadata": {},
   "outputs": [
    {
     "name": "stdout",
     "output_type": "stream",
     "text": [
      "hello, world!\n"
     ]
    }
   ],
   "source": [
    "# Original string\n",
    "string = \"Hello, World!\"\n",
    "\n",
    "# Convert the string to lowercase\n",
    "lowercase_string = string.lower()\n",
    "print(lowercase_string)  # Output: hello, world!\n"
   ]
  },
  {
   "cell_type": "markdown",
   "id": "96b02ec3-648e-4ea7-8540-1feee009a44c",
   "metadata": {},
   "source": [
    "In both examples:\n",
    "\n",
    "We have an original string \"Hello, World!\".\n",
    "We use the upper() method to convert the string to uppercase in the first example.\n",
    "We use the lower() method to convert the string to lowercase in the second example.\n",
    "The original string remains unchanged, and the methods return new strings with the desired case modifications.\n",
    "These methods are useful when you need to standardize the case of strings or perform case-insensitive comparisons in your Python code."
   ]
  },
  {
   "cell_type": "code",
   "execution_count": 13,
   "id": "3ea559a2-ba3c-4664-9a7c-305280db88c8",
   "metadata": {},
   "outputs": [],
   "source": [
    "# Ques No. 05. What does the split() method do in Python, and how can you split a string using a specific delimiter?"
   ]
  },
  {
   "cell_type": "markdown",
   "id": "635cb5c8-81d6-4b17-a440-a383a91a474d",
   "metadata": {},
   "source": [
    "In Python, the split() method is used to split a string into a list of substrings based on a specified delimiter. The method takes an optional delimiter as an argument and returns a list of substrings obtained by splitting the original string at occurrences of the delimiter. If no delimiter is provided, the method splits the string using whitespace characters (spaces, tabs, newline characters) as the default delimiter.\n",
    "\n",
    "Here's the basic syntax of the split() method:\n",
    "\n"
   ]
  },
  {
   "cell_type": "code",
   "execution_count": 14,
   "id": "2f37cf6a-dcf3-432f-9511-3d7a7879656a",
   "metadata": {},
   "outputs": [
    {
     "ename": "NameError",
     "evalue": "name 'delimiter' is not defined",
     "output_type": "error",
     "traceback": [
      "\u001b[0;31m---------------------------------------------------------------------------\u001b[0m",
      "\u001b[0;31mNameError\u001b[0m                                 Traceback (most recent call last)",
      "Cell \u001b[0;32mIn[14], line 1\u001b[0m\n\u001b[0;32m----> 1\u001b[0m string\u001b[38;5;241m.\u001b[39msplit(\u001b[43mdelimiter\u001b[49m)\n",
      "\u001b[0;31mNameError\u001b[0m: name 'delimiter' is not defined"
     ]
    }
   ],
   "source": [
    "string.split(delimiter)\n"
   ]
  },
  {
   "cell_type": "markdown",
   "id": "1a57cb2c-a75a-4951-ada9-0cf93b18a715",
   "metadata": {},
   "source": [
    "string: The original string that you want to split.\n",
    "delimiter (optional): The delimiter used to split the string. If omitted, whitespace characters are used as the default delimiter.\n",
    "Here's an example of splitting a string using the split() method with a specific delimiter:"
   ]
  },
  {
   "cell_type": "code",
   "execution_count": 15,
   "id": "cbcb034d-bd06-4f26-81fc-d63d6ed2121c",
   "metadata": {},
   "outputs": [
    {
     "name": "stdout",
     "output_type": "stream",
     "text": [
      "['apple', 'banana', 'orange', 'grape']\n"
     ]
    }
   ],
   "source": [
    "# Original string\n",
    "string = \"apple,banana,orange,grape\"\n",
    "\n",
    "# Split the string using a comma as the delimiter\n",
    "split_string = string.split(\",\")\n",
    "print(split_string)  # Output: ['apple', 'banana', 'orange', 'grape']\n"
   ]
  },
  {
   "cell_type": "code",
   "execution_count": 16,
   "id": "26fa1892-88cb-4324-a919-e45c7d263794",
   "metadata": {},
   "outputs": [
    {
     "ename": "SyntaxError",
     "evalue": "invalid syntax (989469905.py, line 1)",
     "output_type": "error",
     "traceback": [
      "\u001b[0;36m  Cell \u001b[0;32mIn[16], line 1\u001b[0;36m\u001b[0m\n\u001b[0;31m    In this example:\u001b[0m\n\u001b[0m       ^\u001b[0m\n\u001b[0;31mSyntaxError\u001b[0m\u001b[0;31m:\u001b[0m invalid syntax\n"
     ]
    }
   ],
   "source": [
    "In this example:\n",
    "\n",
    "We have an original string \"apple,banana,orange,grape\".\n",
    "We use the split() method with a comma , as the delimiter to split the string into substrings.\n",
    "The method returns a list containing the substrings obtained by splitting the original string at occurrences of the comma delimiter.\n",
    "You can use any character or substring as the delimiter for splitting strings using the split() method. This is useful when you need to extract specific components or tokens from a string, such as parsing CSV (comma-separated values) data or breaking down text into individual words.\n",
    "\n",
    "\n",
    "\n",
    "\n",
    "\n",
    "\n"
   ]
  },
  {
   "cell_type": "code",
   "execution_count": null,
   "id": "38932862-59ab-48c2-8a39-3cff8c40226b",
   "metadata": {},
   "outputs": [],
   "source": []
  }
 ],
 "metadata": {
  "kernelspec": {
   "display_name": "Python 3 (ipykernel)",
   "language": "python",
   "name": "python3"
  },
  "language_info": {
   "codemirror_mode": {
    "name": "ipython",
    "version": 3
   },
   "file_extension": ".py",
   "mimetype": "text/x-python",
   "name": "python",
   "nbconvert_exporter": "python",
   "pygments_lexer": "ipython3",
   "version": "3.10.8"
  }
 },
 "nbformat": 4,
 "nbformat_minor": 5
}
